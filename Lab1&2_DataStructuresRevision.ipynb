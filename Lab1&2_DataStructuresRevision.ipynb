{
  "nbformat": 4,
  "nbformat_minor": 0,
  "metadata": {
    "colab": {
      "name": "Lab1&2:DataStructuresRevision.ipynb",
      "provenance": [],
      "authorship_tag": "ABX9TyPnoSs+VobZH5MFiuEVHgDd",
      "include_colab_link": true
    },
    "kernelspec": {
      "name": "python3",
      "display_name": "Python 3"
    },
    "language_info": {
      "name": "python"
    }
  },
  "cells": [
    {
      "cell_type": "markdown",
      "metadata": {
        "id": "view-in-github",
        "colab_type": "text"
      },
      "source": [
        "<a href=\"https://colab.research.google.com/github/MubarizKhan/CS461-Artificial-Intelligence/blob/main/Lab1%262_DataStructuresRevision.ipynb\" target=\"_parent\"><img src=\"https://colab.research.google.com/assets/colab-badge.svg\" alt=\"Open In Colab\"/></a>"
      ]
    },
    {
      "cell_type": "code",
      "metadata": {
        "id": "wadmZbKsFfp4"
      },
      "source": [
        "import copy\n",
        "\n"
      ],
      "execution_count": null,
      "outputs": []
    },
    {
      "cell_type": "code",
      "metadata": {
        "id": "N-G0VkmQrsFJ"
      },
      "source": [
        ""
      ],
      "execution_count": null,
      "outputs": []
    },
    {
      "cell_type": "code",
      "metadata": {
        "id": "lqsNBrNAF159"
      },
      "source": [
        "class node:\n",
        "  def __init__(self, val):\n",
        "    # print('Nod   e has been created')\n",
        "    self.val = val\n",
        "    self.next = None\n",
        "    \n",
        "class LinkedList:\n",
        "  def __init__(self):\n",
        "    self.head = None\n",
        "  \n",
        "  def push(self,val):\n",
        "    temp = self.head\n",
        "\n",
        "    new_node = node(val)\n",
        "    if self.head is None:\n",
        "      self.head = new_node\n",
        "      return\n",
        "    \n",
        "    while temp.next is not None:\n",
        "      temp = temp.next\n",
        "    temp.next = new_node\n",
        "\n",
        "  def __str__(self):\n",
        "    temp = self.head \n",
        "    ret = \"[\"\n",
        "    while temp is not None:\n",
        "      ret += str(temp.val) + \",\"\n",
        "      temp = temp.next\n",
        "\n",
        "    \n",
        "    ret = ret.rstrip(\",\")\n",
        "    ret += \"]\"\n",
        "    print(type(ret))\n",
        "    return ret\n",
        "\n",
        "\n",
        "L = LinkedList()\n",
        "ll = [1,2,3,4,5,6,7]\n",
        "for i in range(len(ll)):\n",
        "  L.push(int(ll[i]))\n",
        "# L.insert()++\n",
        "\n",
        "L.push(33)\n",
        "print(L)\n",
        "\n",
        "# print(L.head.val)"
      ],
      "execution_count": null,
      "outputs": []
    },
    {
      "cell_type": "code",
      "metadata": {
        "id": "p9pHsG5sGIM9"
      },
      "source": [
        "class cll:\n",
        "  def __init__(self):\n",
        "    self.head = None\n",
        "    self.final = None\n",
        "\n",
        "  def push(self,val):\n",
        "    new_node = node(val)\n",
        "    if self.head is None:\n",
        "      self.head = new_node\n",
        "      print(\"in head\")\n",
        "      new_node.next = self.head\n",
        "      return\n",
        "    temp = self.head\n",
        "    while temp.next is not self.head:\n",
        "      temp = temp.next\n",
        "    temp.next = new_node\n",
        "    new_node.next = self.head\n",
        "    return\n",
        "    \n",
        "  def __str__(self):\n",
        "    ret = \"[\"\n",
        "    temp = self.head\n",
        "    if temp.next is self.head:\n",
        "      print(temp.val)\n",
        "      ret += str(temp.val)\n",
        "\n",
        "    while temp.next is not self.head:\n",
        "      ret += str(temp.val) + \",\"\n",
        "      temp = temp.next\n",
        "    ret = ret.rstrip(\",\")\n",
        "    ret += \"]\"\n",
        "\n",
        "    return ret\n",
        "\n",
        "\n",
        "cll = cll()\n",
        "ll = [1,2,3,4,5,6,7]\n",
        "for i in range(len(ll)):\n",
        "  cll.push(int(ll[i]))\n",
        "# L.insert()++\n",
        "\n",
        "# L.push(33)\n",
        "print(cll)\n"
      ],
      "execution_count": null,
      "outputs": []
    },
    {
      "cell_type": "code",
      "metadata": {
        "id": "ZqOtPgxUrcbi"
      },
      "source": [
        "class bst_node:\n",
        "  def __init__(self,val):\n",
        "    self.val = val\n",
        "    self.right = None\n",
        "    self.left = None\n",
        "    # self.parent = parent\n",
        "\n",
        "class b(bst_node):\n",
        "  def __init__(self,val,parent = None):\n",
        "    super().__init__(val)\n",
        "    self.parent = parent\n",
        "\n",
        "    \n",
        "  def insert(self,val):\n",
        "    \n",
        "    if val < self.val:\n",
        "      if self.left is None:\n",
        "        new_node = b(val ,parent=self)\n",
        "        self.left = new_node\n",
        "      else:\n",
        "        self.left.insert(val)\n",
        "    else:\n",
        "      new_node = b(val,parent=self)\n",
        "      if self.right is None:\n",
        "        new_node = b(val,parent=self)\n",
        "        self.right = new_node  \n",
        "      else:\n",
        "        self.right.insert(val)\n",
        "\n",
        "  def dfs(self):\n",
        "    print(self.val)\n",
        "    if self.left:\n",
        "        self.left.dfs()\n",
        "\n",
        "    if self.right:\n",
        "        self.right.dfs()\n",
        "\n",
        "  def bfs(self):\n",
        "    to_visit = [self]\n",
        "    while to_visit:\n",
        "      current = to_visit.pop(0)\n",
        "      print(current.val)\n",
        "      if current.left:\n",
        "        to_visit.append(current.left)\n",
        "      if current.right:\n",
        "        to_visit.append(current.right)\n",
        "\n",
        "\n",
        "\n",
        "\n",
        "\n",
        "bst = b(10)\n",
        "ll = [1,52,3,64,5,66,7]\n",
        "for i in range(len(ll)):\n",
        "  bst.insert(int(ll[i]))\n",
        "bst.bfs()\n"
      ],
      "execution_count": null,
      "outputs": []
    },
    {
      "cell_type": "code",
      "metadata": {
        "id": "zAjKkjngrcwx",
        "colab": {
          "base_uri": "https://localhost:8080/"
        },
        "outputId": "330f289b-02af-4af3-850e-1550de8e407f"
      },
      "source": [
        "class Queue:\n",
        "    def __init__(self):\n",
        "        self.size = 5\n",
        "        self.queue = list(range(self.size))\n",
        "        self.i = 0\n",
        "        self.o = 0\n",
        "\n",
        "        self.is_empty = True\n",
        "        self.is_full = False\n",
        "\n",
        "    def _inc(self, val):\n",
        "        if val + 1 == self.size:\n",
        "            return 0\n",
        "        else:\n",
        "            return val + 1\n",
        "\n",
        "\n",
        "\n",
        "    def enqueue(self, val):\n",
        "        if self.is_full:\n",
        "            raise IndexError(\"The Queue is full!\")\n",
        "\n",
        "        self.queue[self.i] = val\n",
        "        self.i = self._inc(self.i)\n",
        "\n",
        "        if self.i == self.o:\n",
        "            self.is_full = True\n",
        "        \n",
        "        self.is_empty = False\n",
        "\n",
        "\n",
        "    def dequeue(self):\n",
        "        if self.is_empty:\n",
        "            raise IndexError(\"Queue is empty!\")\n",
        "\n",
        "        ret = self.queue[self.o]\n",
        "        self.o = self._inc(self.o)\n",
        "\n",
        "        if self.i == self.o:\n",
        "            self.is_empty = True\n",
        "\n",
        "        self.is_full = False\n",
        "\n",
        "    \n",
        "    def __str__(self):\n",
        "        return str(self.queue) + \"In: \" + str(self.i) + \"Out: \" + str(self.o)\n",
        "\n",
        "\n",
        "Q = Queue()\n",
        "Q.enqueue(1)\n",
        "Q.enqueue(1)\n",
        "Q.enqueue(1)\n",
        "Q.enqueue(1)\n",
        "Q.enqueue(1)\n",
        "\n",
        "print(Q)\n",
        "\n",
        "Q.dequeue()\n",
        "Q.dequeue()\n",
        "Q.dequeue()\n",
        "Q.dequeue()\n",
        "\n",
        "\n",
        "print(Q)\n"
      ],
      "execution_count": null,
      "outputs": [
        {
          "output_type": "stream",
          "text": [
            "[1, 1, 1, 1, 1]In: 0Out: 0\n",
            "[1, 1, 1, 1, 1]In: 0Out: 4\n"
          ],
          "name": "stdout"
        }
      ]
    },
    {
      "cell_type": "code",
      "metadata": {
        "colab": {
          "base_uri": "https://localhost:8080/"
        },
        "id": "6wVOOATjrdA9",
        "outputId": "0f43f05d-caa0-4d75-b6ee-e63d20eb9d16"
      },
      "source": [
        "class Stack:\n",
        "    def __init__(self):\n",
        "        self.l = []\n",
        "\n",
        "    def push(self,val):\n",
        "        self.l.append(val)\n",
        "\n",
        "    def pop(self):\n",
        "        return self.l.pop()\n",
        "\n",
        "    def peek(self):\n",
        "        return self.l[-1]\n",
        "\n",
        "\n",
        "s = Stack()\n",
        "s.push(1)\n",
        "s.push(2)\n",
        "s.push(3)\n",
        "\n",
        "print(s.peek())\n",
        "print(s.pop())"
      ],
      "execution_count": null,
      "outputs": [
        {
          "output_type": "stream",
          "text": [
            "3\n",
            "3\n"
          ],
          "name": "stdout"
        }
      ]
    },
    {
      "cell_type": "code",
      "metadata": {
        "id": "9gi9N8xvrdTk"
      },
      "source": [
        ""
      ],
      "execution_count": null,
      "outputs": []
    },
    {
      "cell_type": "code",
      "metadata": {
        "id": "73h-RLKardmy"
      },
      "source": [
        ""
      ],
      "execution_count": null,
      "outputs": []
    }
  ]
}