{
  "nbformat": 4,
  "nbformat_minor": 5,
  "metadata": {
    "kernelspec": {
      "display_name": "Python 3",
      "language": "python",
      "name": "python3"
    },
    "language_info": {
      "codemirror_mode": {
        "name": "ipython",
        "version": 3
      },
      "file_extension": ".py",
      "mimetype": "text/x-python",
      "name": "python",
      "nbconvert_exporter": "python",
      "pygments_lexer": "ipython3",
      "version": "3.9.1"
    },
    "colab": {
      "name": "KNN-ML.ipynb",
      "provenance": [],
      "include_colab_link": true
    }
  },
  "cells": [
    {
      "cell_type": "markdown",
      "metadata": {
        "id": "view-in-github",
        "colab_type": "text"
      },
      "source": [
        "<a href=\"https://colab.research.google.com/github/MubarizKhan/CS461-Artificial-Intelligence/blob/main/KNN_ML.ipynb\" target=\"_parent\"><img src=\"https://colab.research.google.com/assets/colab-badge.svg\" alt=\"Open In Colab\"/></a>"
      ]
    },
    {
      "cell_type": "code",
      "metadata": {
        "id": "90662669"
      },
      "source": [
        "import pandas as pd\n",
        "\n",
        "corpus = pd.read_csv ('dataset.csv')\n",
        "data  =corpus\n",
        "from math import sqrt\n",
        "\n",
        "def euc_distance(first_row, second_row):\n",
        "    distance = 0.0\n",
        "    for i in range(len(first_row)-1):\n",
        "        d += (first_row[i] - second_row[i])**2\n",
        "    return sqrt(d)\n",
        "\n",
        "data_collec = data.values.tolist()\n",
        "training = data.head(50).values.tolist() #traininh\n",
        "\n",
        "testing = data.tail(10).values.tolist() #testinh\n",
        "for i in range(len(training)):\n",
        "    print(\"Training: \",training[i])\n",
        "for i in range(len(testing)):\n",
        "    print(\"Testing:\",testing[i])\n",
        "\n",
        "\n",
        "def get_neighbors(training, testing, neighbors_num):\n",
        "    d = list()\n",
        "    n = list()\n",
        "    for i in range(len(training)):\n",
        "        for j in range(len(testing)):\n",
        "            distance = euc_distance(training[i], testing[j])\n",
        "            d.append((training[i],distance))\n",
        "            \n",
        "    d.sort(key=lambda tup: tup[1])\n",
        "\n",
        "    \n",
        "    for i in range(neighbors_num):\n",
        "        n.append(d[0])\n",
        "\n",
        "    return n\n",
        "\n",
        "\n",
        "def classification(training, t_row, neighbors_num): #classification prediction with neighbors\n",
        "    neighbors = get_neighbors(training, t_row, neighbors_num)\n",
        "    output_values = [row[0][0] for row in neighbors]\n",
        "    prediction = max(set(output_values), key=output_values.count)\n",
        "    return prediction\n",
        "\n",
        "neighbors = get_neighbors(TrainList,TestList,4)\n",
        "print(\"neighbors\",neighbors)\n",
        "\n",
        "p = classification(TrainList,TestList,4)\n",
        "print(p)\n",
        "print('Expect %d, Got %d.' % (dataList[30][0], prediction))"
      ],
      "id": "90662669",
      "execution_count": null,
      "outputs": []
    },
    {
      "cell_type": "code",
      "metadata": {
        "id": "368cc6d0"
      },
      "source": [
        "corpus"
      ],
      "id": "368cc6d0",
      "execution_count": null,
      "outputs": []
    },
    {
      "cell_type": "code",
      "metadata": {
        "id": "41315bc8"
      },
      "source": [
        "\n"
      ],
      "id": "41315bc8",
      "execution_count": null,
      "outputs": []
    },
    {
      "cell_type": "code",
      "metadata": {
        "id": "48800b60"
      },
      "source": [
        ""
      ],
      "id": "48800b60",
      "execution_count": null,
      "outputs": []
    },
    {
      "cell_type": "code",
      "metadata": {
        "id": "a02bda54"
      },
      "source": [
        ""
      ],
      "id": "a02bda54",
      "execution_count": null,
      "outputs": []
    },
    {
      "cell_type": "code",
      "metadata": {
        "id": "4b35b244"
      },
      "source": [
        ""
      ],
      "id": "4b35b244",
      "execution_count": null,
      "outputs": []
    },
    {
      "cell_type": "code",
      "metadata": {
        "id": "e1a61ca4"
      },
      "source": [
        ""
      ],
      "id": "e1a61ca4",
      "execution_count": null,
      "outputs": []
    },
    {
      "cell_type": "code",
      "metadata": {
        "id": "3f01c631"
      },
      "source": [
        "# step 2 get nearest neighbors\n",
        "# print(TrainList[0])\n"
      ],
      "id": "3f01c631",
      "execution_count": null,
      "outputs": []
    },
    {
      "cell_type": "code",
      "metadata": {
        "id": "5329874d",
        "outputId": "fd9f9150-4fe3-4ec8-b1e6-60faaccabaa4"
      },
      "source": [
        ""
      ],
      "id": "5329874d",
      "execution_count": null,
      "outputs": [
        {
          "output_type": "stream",
          "text": [
            "neighbors [([3.0, 150.0, 7.1, 7.9, 0.75], 2.3916521486202793), ([3.0, 150.0, 7.1, 7.9, 0.75], 2.3916521486202793), ([3.0, 150.0, 7.1, 7.9, 0.75], 2.3916521486202793), ([3.0, 150.0, 7.1, 7.9, 0.75], 2.3916521486202793)]\n"
          ],
          "name": "stdout"
        }
      ]
    },
    {
      "cell_type": "code",
      "metadata": {
        "id": "7d3a601f"
      },
      "source": [
        ""
      ],
      "id": "7d3a601f",
      "execution_count": null,
      "outputs": []
    },
    {
      "cell_type": "code",
      "metadata": {
        "id": "b2617cbd",
        "outputId": "ffd13fa6-1d27-469d-ae46-936c9ef7ccc4"
      },
      "source": [
        ""
      ],
      "id": "b2617cbd",
      "execution_count": null,
      "outputs": [
        {
          "output_type": "stream",
          "text": [
            "3.0\n",
            "Expected 3, Got 3.\n"
          ],
          "name": "stdout"
        }
      ]
    },
    {
      "cell_type": "code",
      "metadata": {
        "id": "dcbdd05f"
      },
      "source": [
        ""
      ],
      "id": "dcbdd05f",
      "execution_count": null,
      "outputs": []
    },
    {
      "cell_type": "code",
      "metadata": {
        "id": "7b4de3f0"
      },
      "source": [
        ""
      ],
      "id": "7b4de3f0",
      "execution_count": null,
      "outputs": []
    },
    {
      "cell_type": "code",
      "metadata": {
        "id": "97cb3b05"
      },
      "source": [
        ""
      ],
      "id": "97cb3b05",
      "execution_count": null,
      "outputs": []
    },
    {
      "cell_type": "code",
      "metadata": {
        "id": "c1281c5a"
      },
      "source": [
        ""
      ],
      "id": "c1281c5a",
      "execution_count": null,
      "outputs": []
    },
    {
      "cell_type": "code",
      "metadata": {
        "id": "72b96627"
      },
      "source": [
        "\n"
      ],
      "id": "72b96627",
      "execution_count": null,
      "outputs": []
    },
    {
      "cell_type": "code",
      "metadata": {
        "id": "d33e6e4c"
      },
      "source": [
        ""
      ],
      "id": "d33e6e4c",
      "execution_count": null,
      "outputs": []
    },
    {
      "cell_type": "code",
      "metadata": {
        "id": "1a317f29"
      },
      "source": [
        ""
      ],
      "id": "1a317f29",
      "execution_count": null,
      "outputs": []
    },
    {
      "cell_type": "code",
      "metadata": {
        "id": "426114a2"
      },
      "source": [
        ""
      ],
      "id": "426114a2",
      "execution_count": null,
      "outputs": []
    },
    {
      "cell_type": "code",
      "metadata": {
        "id": "27d6f817"
      },
      "source": [
        ""
      ],
      "id": "27d6f817",
      "execution_count": null,
      "outputs": []
    },
    {
      "cell_type": "code",
      "metadata": {
        "id": "0d0ec69e"
      },
      "source": [
        ""
      ],
      "id": "0d0ec69e",
      "execution_count": null,
      "outputs": []
    },
    {
      "cell_type": "code",
      "metadata": {
        "id": "25a5b3fe"
      },
      "source": [
        ""
      ],
      "id": "25a5b3fe",
      "execution_count": null,
      "outputs": []
    }
  ]
}