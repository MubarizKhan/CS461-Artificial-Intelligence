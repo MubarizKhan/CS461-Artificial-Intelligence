{
  "nbformat": 4,
  "nbformat_minor": 0,
  "metadata": {
    "colab": {
      "name": "AI-Lab-Task1&2-P180010.ipynb",
      "provenance": []
    },
    "kernelspec": {
      "name": "python3",
      "display_name": "Python 3"
    },
    "language_info": {
      "name": "python"
    }
  },
  "cells": [
    {
      "cell_type": "code",
      "metadata": {
        "colab": {
          "base_uri": "https://localhost:8080/"
        },
        "id": "1CJd6uFSCGmd",
        "outputId": "b38d7ce5-4999-40cb-9f17-8ae25731dcf2"
      },
      "source": [
        "print('Mubariz Khan P180010--------------- AI LAB------------- Task 1 and Task 2 -----------------------------------------------')"
      ],
      "execution_count": null,
      "outputs": [
        {
          "output_type": "stream",
          "name": "stdout",
          "text": [
            "Mubariz Khan P180010--------------- AI LAB------------- Task 1 and Task 2 -----------------------------------------------\n"
          ]
        }
      ]
    },
    {
      "cell_type": "code",
      "metadata": {
        "colab": {
          "base_uri": "https://localhost:8080/"
        },
        "id": "FwlroKi5EFmu",
        "outputId": "5b68bd7a-5932-4bec-e055-84117b81ec87"
      },
      "source": [
        "def addition(initial,limit,difference):\n",
        "    sums=0\n",
        "    counter = 0\n",
        "    listt = []\n",
        "    while( counter < limit and initial < limit):\n",
        "        print(counter,'(', initial ,'= initial)','(', limit,'=limit)', '(',difference,'= difference)', '(', sums,'= sums)','initial ,limit, difference,sums')\n",
        "        listt.append(initial)\n",
        "        sums +=initial\n",
        "        initial +=difference\n",
        "        counter +=1\n",
        "        \n",
        "    return sum(listt)#,a,b,d\n",
        "\n",
        "addition(1,20,5)"
      ],
      "execution_count": null,
      "outputs": [
        {
          "output_type": "stream",
          "name": "stdout",
          "text": [
            "0 ( 1 = initial) ( 20 =limit) ( 5 = difference) ( 0 = sums) initial ,limit, difference,sums\n",
            "1 ( 6 = initial) ( 20 =limit) ( 5 = difference) ( 1 = sums) initial ,limit, difference,sums\n",
            "2 ( 11 = initial) ( 20 =limit) ( 5 = difference) ( 7 = sums) initial ,limit, difference,sums\n",
            "3 ( 16 = initial) ( 20 =limit) ( 5 = difference) ( 18 = sums) initial ,limit, difference,sums\n"
          ]
        },
        {
          "output_type": "execute_result",
          "data": {
            "text/plain": [
              "34"
            ]
          },
          "metadata": {},
          "execution_count": 41
        }
      ]
    },
    {
      "cell_type": "code",
      "metadata": {
        "colab": {
          "base_uri": "https://localhost:8080/"
        },
        "id": "xo0rY0MVFjct",
        "outputId": "23b65c1b-28b1-46ca-f71a-e44e7f4b5259"
      },
      "source": [
        "def products(initial,limit,difference):\n",
        "    prod = 1\n",
        "    counter = 0\n",
        "    multipliants = []\n",
        "    v = 0\n",
        "    while( counter < limit and initial < limit):\n",
        "        print(counter,'(', initial ,'= initial)','(', limit,'=limit)', '(',difference,'= difference)', '(', prod,'= prod)','initial ,limit, difference,sums')\n",
        "        multipliants.append(initial)\n",
        "        prod *= initial\n",
        "        initial +=difference\n",
        "        counter +=1\n",
        "\n",
        "  \n",
        "    return prod,multipliants#,a,b,d\n",
        "products(1,6,2)"
      ],
      "execution_count": null,
      "outputs": [
        {
          "output_type": "stream",
          "name": "stdout",
          "text": [
            "0 ( 1 = initial) ( 6 =limit) ( 2 = difference) ( 1 = prod) initial ,limit, difference,sums\n",
            "1 ( 3 = initial) ( 6 =limit) ( 2 = difference) ( 1 = prod) initial ,limit, difference,sums\n",
            "2 ( 5 = initial) ( 6 =limit) ( 2 = difference) ( 3 = prod) initial ,limit, difference,sums\n"
          ]
        },
        {
          "output_type": "execute_result",
          "data": {
            "text/plain": [
              "(15, [1, 3, 5])"
            ]
          },
          "metadata": {},
          "execution_count": 54
        }
      ]
    },
    {
      "cell_type": "code",
      "metadata": {
        "colab": {
          "base_uri": "https://localhost:8080/"
        },
        "id": "fzF0RkU8bgM0",
        "outputId": "9f34e653-f79c-414c-b9ae-8e36296e6b3a"
      },
      "source": [
        "1 * 2 * 3 * 4 * 5"
      ],
      "execution_count": null,
      "outputs": [
        {
          "output_type": "execute_result",
          "data": {
            "text/plain": [
              "120"
            ]
          },
          "metadata": {},
          "execution_count": 49
        }
      ]
    },
    {
      "cell_type": "code",
      "metadata": {
        "id": "qHkPgYmLf06e"
      },
      "source": [
        "print('------------------------------Task 2 ---------------------------------------------------------------------')"
      ],
      "execution_count": null,
      "outputs": []
    },
    {
      "cell_type": "code",
      "metadata": {
        "id": "tDiNLuFlcVTP"
      },
      "source": [
        "\n",
        "import numpy as np\n",
        "import matplotlib.pyplot as plt\n",
        "import pandas as pd"
      ],
      "execution_count": null,
      "outputs": []
    },
    {
      "cell_type": "code",
      "metadata": {
        "id": "pBrNCDiphl-V"
      },
      "source": [
        ""
      ],
      "execution_count": null,
      "outputs": []
    },
    {
      "cell_type": "code",
      "metadata": {
        "id": "S2jEHSVcca8Z"
      },
      "source": [
        ""
      ],
      "execution_count": null,
      "outputs": []
    },
    {
      "cell_type": "code",
      "metadata": {
        "colab": {
          "base_uri": "https://localhost:8080/"
        },
        "id": "zO0EcwOmRf1f",
        "outputId": "78d858ad-1ae9-4232-e4f2-ce0f4d083cbc"
      },
      "source": [
        "d1 = np.random.random_integers(18, 50, 1000)\n",
        "\n",
        "d2 = np.random.random_integers(30, 780, 1000)\n",
        "\n",
        "dsums = d1 + d2"
      ],
      "execution_count": null,
      "outputs": [
        {
          "output_type": "stream",
          "name": "stderr",
          "text": [
            "/usr/local/lib/python3.7/dist-packages/ipykernel_launcher.py:1: DeprecationWarning: This function is deprecated. Please call randint(18, 50 + 1) instead\n",
            "  \"\"\"Entry point for launching an IPython kernel.\n",
            "/usr/local/lib/python3.7/dist-packages/ipykernel_launcher.py:3: DeprecationWarning: This function is deprecated. Please call randint(30, 780 + 1) instead\n",
            "  This is separate from the ipykernel package so we can avoid doing imports until\n"
          ]
        }
      ]
    },
    {
      "cell_type": "code",
      "metadata": {
        "colab": {
          "base_uri": "https://localhost:8080/",
          "height": 350
        },
        "id": "vJjPch7kkR_J",
        "outputId": "5b892aa9-f998-45bc-f997-6457921f4d33"
      },
      "source": [
        "df=pd.DataFrame(dsums)\n",
        "\n",
        "fig = plt.figure(figsize = (10, 5))\n",
        " \n",
        "plt.bar(d1, d2, color ='maroon',\n",
        "        width = 0.4)\n",
        " \n",
        "plt.xlabel(\"Age\")\n",
        "plt.ylabel(\"No. of start-ups frequency\")\n",
        "plt.title(\"age of startup owners to frequency of start-up opened in state of kentucky\")\n",
        "plt.show()\n"
      ],
      "execution_count": null,
      "outputs": [
        {
          "output_type": "display_data",
          "data": {
            "image/png": "[encoded data removed]",
            "text/plain": [
              "<Figure size 720x360 with 1 Axes>"
            ]
          },
          "metadata": {
            "needs_background": "light"
          }
        }
      ]
    },
    {
      "cell_type": "code",
      "metadata": {
        "id": "1J4mXJGBRf6-"
      },
      "source": [
        "dsums"
      ],
      "execution_count": null,
      "outputs": []
    },
    {
      "cell_type": "code",
      "metadata": {
        "id": "Nzk1lMhgj9WF"
      },
      "source": [
        "d2"
      ],
      "execution_count": null,
      "outputs": []
    }
  ]
}