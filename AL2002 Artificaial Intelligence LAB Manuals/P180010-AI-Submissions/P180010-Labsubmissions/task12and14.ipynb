{
  "nbformat": 4,
  "nbformat_minor": 0,
  "metadata": {
    "colab": {
      "name": "task12and14.ipynb",
      "provenance": []
    },
    "kernelspec": {
      "name": "python3",
      "display_name": "Python 3"
    },
    "language_info": {
      "name": "python"
    }
  },
  "cells": [
    {
      "cell_type": "code",
      "source": [
        "import pandas as pd\n",
        "from collections import Counter\n",
        "from math import sqrt\n",
        "import numpy as np\n",
        "from datetime import datetime, timedelta\n",
        "Counter()\n",
        "import random\n",
        "\n"
      ],
      "metadata": {
        "id": "idJ_nev_gGyP"
      },
      "execution_count": null,
      "outputs": []
    },
    {
      "cell_type": "code",
      "source": [
        ""
      ],
      "metadata": {
        "id": "86HiyY6ngNuf"
      },
      "execution_count": null,
      "outputs": []
    },
    {
      "cell_type": "code",
      "execution_count": null,
      "metadata": {
        "colab": {
          "base_uri": "https://localhost:8080/"
        },
        "id": "gbKtDyCyW0NK",
        "outputId": "3d11b5b3-5d76-4caa-9685-6bf54967d33d"
      },
      "outputs": [
        {
          "output_type": "stream",
          "name": "stdout",
          "text": [
            "Mounted at /content/drive\n"
          ]
        }
      ],
      "source": [
        "from google.colab import drive\n",
        "drive.mount('/content/drive')"
      ]
    },
    {
      "cell_type": "code",
      "execution_count": null,
      "metadata": {
        "id": "9ynL6vJuJaFj"
      },
      "outputs": [],
      "source": [
        "data = pd.read_csv('/content/drive/MyDrive/7th- Semester/AI/New folder (2)/fruit_data_with_colors _1_.csv')"
      ]
    },
    {
      "cell_type": "code",
      "source": [
        "# data = pd.read_csv('dataset.csv')\n",
        "# isolating necessary columns\n",
        "cols = [0,3,4,5,6]\n",
        "data = data.iloc[:,cols]\n",
        "\n",
        "# to fill up empty spaces with mean of the column\n",
        "mass_mean = data['mass'].mean()\n",
        "height_mean = data['height'].mean()"
      ],
      "metadata": {
        "id": "7ez0zn1SgLTb"
      },
      "execution_count": null,
      "outputs": []
    },
    {
      "cell_type": "code",
      "source": [
        ""
      ],
      "metadata": {
        "id": "5tzmFDphHqrH"
      },
      "execution_count": null,
      "outputs": []
    },
    {
      "cell_type": "code",
      "source": [
        "# corpus = pd.read_csv('/content/drive/MyDrive/7th- Semester/AI/New folder (2)/fruit_data_with_colors _1_.csv')\n",
        "# corpus = corpus.iloc[:,[3,4,5,6]]\n",
        "# mass_mean = corpus['mass'].mean()\n",
        "# height_mean = corpus['height'].mean()\n",
        "# corpus.loc[17] = pd.Series({'mass':mass_mean,\n",
        "# 'width':corpus.loc[17]['width'], 'height':height_mean,\n",
        "# 'color_score':corpus.loc[17]['color_score']})\n",
        "# corpus.loc[18] = pd.Series({'mass':mass_mean,\n",
        "# 'width':corpus.loc[18]['width'], 'height':height_mean,\n",
        "# 'color_score':corpus.loc[18]['color_score']})\n",
        "# corpus.loc[19] = pd.Series({'mass':mass_mean,\n",
        "# 'width':corpus.loc[19]['width'], 'height':height_mean,\n",
        "# 'color_score':corpus.loc[19]['color_score']})\n",
        "# corpus.loc[20] = pd.Series({'mass':mass_mean,\n",
        "# 'width':corpus.loc[20]['width'], 'height':height_mean,\n",
        "# 'color_score':corpus.loc[20]['color_score']})\n",
        "# corpus.loc[21] = pd.Series({'mass':mass_mean,\n",
        "# 'width':corpus.loc[21]['width'], 'height':height_mean,\n",
        "# 'color_score':corpus.loc[21]['color_score']})\n",
        "# corpus.loc[22] = pd.Series({'mass':mass_mean,\n",
        "# 'width':corpus.loc[22]['width'], 'height':height_mean,\n",
        "# 'color_score':corpus.loc[22]['color_score']})\n",
        "# corpus.loc[23] = pd.Series({'mass':mass_mean,\n",
        "# 'width':corpus.loc[23]['width'], 'height':height_mean,\n",
        "# 'color_score':corpus.loc[23]['color_score']})\n",
        "# corpus.loc[24] = pd.Series({'mass':mass_mean,\n",
        "# 'width':corpus.loc[24]['width'], 'height':height_mean,\n",
        "# 'color_score':corpus.loc[24]['color_score']})\n",
        "# corpus.loc[25] = pd.Series({'mass':mass_mean,\n",
        "# 'width':corpus.loc[25]['width'], 'height':height_mean,\n",
        "# 'color_score':corpus.loc[25]['color_score']})"
      ],
      "metadata": {
        "id": "VlzjvMgJHU6e"
      },
      "execution_count": null,
      "outputs": []
    },
    {
      "cell_type": "code",
      "execution_count": null,
      "metadata": {
        "id": "JJ3VN43pgDxD"
      },
      "outputs": [],
      "source": [
        "# to fill up empty spaces with data\n",
        "data.loc[17] = pd.Series({'fruit_label':data.loc[17]['fruit_label'],\n",
        "                          'mass':mass_mean, 'width':data.loc[17]['width'], 'height':height_mean,\n",
        "                          'color_score':data.loc[17]['color_score']})\n",
        "data.loc[18] = pd.Series({'fruit_label':data.loc[18]['fruit_label'],\n",
        "                          'mass':mass_mean, 'width':data.loc[18]['width'], 'height':height_mean,\n",
        "                          'color_score':data.loc[18]['color_score']})\n",
        "data.loc[19] = pd.Series({'fruit_label':data.loc[19]['fruit_label'],\n",
        "                          'mass':mass_mean, 'width':data.loc[19]['width'], 'height':height_mean,\n",
        "                          'color_score':data.loc[19]['color_score']})\n",
        "data.loc[20] = pd.Series({'fruit_label':data.loc[20]['fruit_label'],\n",
        "                          'mass':mass_mean, 'width':data.loc[20]['width'], 'height':height_mean,\n",
        "                          'color_score':data.loc[20]['color_score']})\n",
        "data.loc[21] = pd.Series({'fruit_label':data.loc[21]['fruit_label'],\n",
        "                          'mass':mass_mean, 'width':data.loc[21]['width'], 'height':height_mean,\n",
        "                          'color_score':data.loc[21]['color_score']})\n",
        "data.loc[22] = pd.Series({'fruit_label':data.loc[22]['fruit_label'],\n",
        "                          'mass':mass_mean, 'width':data.loc[22]['width'], 'height':height_mean,\n",
        "                          'color_score':data.loc[22]['color_score']})\n",
        "data.loc[23] = pd.Series({'fruit_label':data.loc[23]['fruit_label'],\n",
        "                          'mass':mass_mean, 'width':data.loc[23]['width'], 'height':height_mean,\n",
        "                          'color_score':data.loc[23]['color_score']})\n",
        "data.loc[24] = pd.Series({'fruit_label':data.loc[24]['fruit_label'],\n",
        "                          'mass':mass_mean, 'width':data.loc[24]['width'], 'height':height_mean,\n",
        "                          'color_score':data.loc[24]['color_score']})\n",
        "data.loc[25] = pd.Series({'fruit_label':data.loc[25]['fruit_label'],\n",
        "                          'mass':mass_mean, 'width':data.loc[25]['width'], 'height':height_mean,\n",
        "                          'color_score':data.loc[25]['color_score']})\n",
        "# to shuffle rows and to keep the indexes in order\n",
        "data = data.sample(frac=1).reset_index(drop=True)\n"
      ]
    },
    {
      "cell_type": "code",
      "source": [
        "print(data.loc[25])"
      ],
      "metadata": {
        "colab": {
          "base_uri": "https://localhost:8080/"
        },
        "id": "zuy69vgRrJDG",
        "outputId": "814aa7e6-9aef-457a-dd8b-b81a43b0e5a3"
      },
      "execution_count": null,
      "outputs": [
        {
          "output_type": "stream",
          "name": "stdout",
          "text": [
            "fruit_label      3.00\n",
            "mass           190.00\n",
            "width            7.50\n",
            "height           8.10\n",
            "color_score      0.74\n",
            "Name: 25, dtype: float64\n"
          ]
        }
      ]
    },
    {
      "cell_type": "code",
      "source": [
        ""
      ],
      "metadata": {
        "id": "ncVUlRclrJJj"
      },
      "execution_count": null,
      "outputs": []
    },
    {
      "cell_type": "code",
      "source": [
        "data.head(10)\n",
        "data.shape"
      ],
      "metadata": {
        "colab": {
          "base_uri": "https://localhost:8080/"
        },
        "id": "Vje310dol6gS",
        "outputId": "59da86d3-6ca8-419e-fcf9-b0e117293bf7"
      },
      "execution_count": null,
      "outputs": [
        {
          "output_type": "execute_result",
          "data": {
            "text/plain": [
              "(60, 5)"
            ]
          },
          "metadata": {},
          "execution_count": 15
        }
      ]
    },
    {
      "cell_type": "code",
      "source": [
        "def Euclidean(data,j):\n",
        "  dist = {}\n",
        "  ans = 0\n",
        "  for i in range(50):\n",
        "    for col in data.columns:\n",
        "      ans += pow(data.loc[i][col]-data.loc[j][col],2) \n",
        "      dist[i] = [ans, data.loc[i]['fruit_label']]\n",
        "  \n",
        "  return dist\n",
        "\n",
        "\n",
        "    # + pow(data.loc[i]['width']-data.loc[j]['width'],2) \n",
        "    # + pow(data.loc[i]['height']-data.loc[j]['height'],2) + pow(data.loc[i]['color_score']-data.loc[j]['color_score'],2)\n",
        "\n",
        "\n"
      ],
      "metadata": {
        "id": "45lhFYY0tHvE"
      },
      "execution_count": null,
      "outputs": []
    },
    {
      "cell_type": "code",
      "source": [
        "def KNN(data, k):\n",
        "  distances = []\n",
        "  predicted_labels = []\n",
        "  for j in range(50,60):\n",
        "    dist = {}\n",
        "\n",
        "    dist = Euclidean(data,j)\n",
        "    sorted_dist = sorted(dist.items(), key=lambda x: x[1], reverse=False)\n",
        "    distances.append(sorted_dist[0:k])\n",
        "    # print(*distances,sep='\\n')\n",
        "    # counting labels of test data\n",
        "    for i in range(0,len(distances)):\n",
        "      labels = []\n",
        "      for j in range(0,k):\n",
        "        print('distances',distances[i][j][1][1])\n",
        "        labels.append(distances[i][j][1][1])\n",
        "        lst = Counter(labels)\n",
        "        predicted_labels.append(lst.most_common()[0][0])\n",
        "  # print('Predicted labels:',predicted_labels)\n"
      ],
      "metadata": {
        "id": "hdGutKYyvNsf"
      },
      "execution_count": null,
      "outputs": []
    },
    {
      "cell_type": "code",
      "source": [
        "if __name__ == '__main__':\n",
        "  KNN(data, 3)"
      ],
      "metadata": {
        "colab": {
          "base_uri": "https://localhost:8080/"
        },
        "id": "qtdv_ri7kDbz",
        "outputId": "948597ee-7de1-4509-c8e5-d2bd1ebfa828"
      },
      "execution_count": null,
      "outputs": [
        {
          "output_type": "stream",
          "name": "stdout",
          "text": [
            "distances 4.0\n",
            "distances 3.0\n",
            "distances 1.0\n",
            "distances 4.0\n",
            "distances 3.0\n",
            "distances 1.0\n",
            "distances 4.0\n",
            "distances 3.0\n",
            "distances 1.0\n",
            "distances 4.0\n",
            "distances 3.0\n",
            "distances 1.0\n",
            "distances 4.0\n",
            "distances 3.0\n",
            "distances 1.0\n",
            "distances 4.0\n",
            "distances 3.0\n",
            "distances 1.0\n",
            "distances 4.0\n",
            "distances 3.0\n",
            "distances 1.0\n",
            "distances 4.0\n",
            "distances 3.0\n",
            "distances 1.0\n",
            "distances 4.0\n",
            "distances 3.0\n",
            "distances 1.0\n",
            "distances 4.0\n",
            "distances 3.0\n",
            "distances 1.0\n",
            "distances 4.0\n",
            "distances 3.0\n",
            "distances 1.0\n",
            "distances 4.0\n",
            "distances 3.0\n",
            "distances 1.0\n",
            "distances 4.0\n",
            "distances 3.0\n",
            "distances 1.0\n",
            "distances 4.0\n",
            "distances 3.0\n",
            "distances 1.0\n",
            "distances 4.0\n",
            "distances 3.0\n",
            "distances 1.0\n",
            "distances 4.0\n",
            "distances 3.0\n",
            "distances 1.0\n",
            "distances 4.0\n",
            "distances 3.0\n",
            "distances 1.0\n",
            "distances 4.0\n",
            "distances 3.0\n",
            "distances 1.0\n",
            "distances 4.0\n",
            "distances 3.0\n",
            "distances 1.0\n",
            "distances 4.0\n",
            "distances 3.0\n",
            "distances 1.0\n",
            "distances 4.0\n",
            "distances 3.0\n",
            "distances 1.0\n",
            "distances 4.0\n",
            "distances 3.0\n",
            "distances 1.0\n",
            "distances 4.0\n",
            "distances 3.0\n",
            "distances 1.0\n",
            "distances 4.0\n",
            "distances 3.0\n",
            "distances 1.0\n",
            "distances 4.0\n",
            "distances 3.0\n",
            "distances 1.0\n",
            "distances 4.0\n",
            "distances 3.0\n",
            "distances 1.0\n",
            "distances 4.0\n",
            "distances 3.0\n",
            "distances 1.0\n",
            "distances 4.0\n",
            "distances 3.0\n",
            "distances 1.0\n",
            "distances 4.0\n",
            "distances 3.0\n",
            "distances 1.0\n",
            "distances 4.0\n",
            "distances 3.0\n",
            "distances 1.0\n",
            "distances 4.0\n",
            "distances 3.0\n",
            "distances 1.0\n",
            "distances 4.0\n",
            "distances 3.0\n",
            "distances 1.0\n",
            "distances 4.0\n",
            "distances 3.0\n",
            "distances 1.0\n",
            "distances 4.0\n",
            "distances 3.0\n",
            "distances 1.0\n",
            "distances 4.0\n",
            "distances 3.0\n",
            "distances 1.0\n",
            "distances 4.0\n",
            "distances 3.0\n",
            "distances 1.0\n",
            "distances 4.0\n",
            "distances 3.0\n",
            "distances 1.0\n",
            "distances 4.0\n",
            "distances 3.0\n",
            "distances 1.0\n",
            "distances 4.0\n",
            "distances 3.0\n",
            "distances 1.0\n",
            "distances 4.0\n",
            "distances 3.0\n",
            "distances 1.0\n",
            "distances 4.0\n",
            "distances 3.0\n",
            "distances 1.0\n",
            "distances 4.0\n",
            "distances 3.0\n",
            "distances 1.0\n",
            "distances 4.0\n",
            "distances 3.0\n",
            "distances 1.0\n",
            "distances 4.0\n",
            "distances 3.0\n",
            "distances 1.0\n",
            "distances 4.0\n",
            "distances 3.0\n",
            "distances 1.0\n",
            "distances 4.0\n",
            "distances 3.0\n",
            "distances 1.0\n",
            "distances 4.0\n",
            "distances 3.0\n",
            "distances 1.0\n",
            "distances 4.0\n",
            "distances 3.0\n",
            "distances 1.0\n",
            "distances 4.0\n",
            "distances 3.0\n",
            "distances 1.0\n",
            "distances 4.0\n",
            "distances 3.0\n",
            "distances 1.0\n",
            "distances 4.0\n",
            "distances 3.0\n",
            "distances 1.0\n",
            "distances 4.0\n",
            "distances 3.0\n",
            "distances 1.0\n",
            "distances 4.0\n",
            "distances 3.0\n",
            "distances 1.0\n",
            "distances 4.0\n",
            "distances 3.0\n",
            "distances 1.0\n",
            "distances 4.0\n",
            "distances 3.0\n",
            "distances 1.0\n"
          ]
        }
      ]
    },
    {
      "cell_type": "code",
      "source": [
        "corpus.columns"
      ],
      "metadata": {
        "colab": {
          "base_uri": "https://localhost:8080/"
        },
        "id": "ljsxRVuFkDYq",
        "outputId": "64043b08-a3ee-4210-fd35-3118272af7eb"
      },
      "execution_count": null,
      "outputs": [
        {
          "output_type": "execute_result",
          "data": {
            "text/plain": [
              "Index(['mass', 'width', 'height', 'color_score'], dtype='object')"
            ]
          },
          "metadata": {},
          "execution_count": 90
        }
      ]
    },
    {
      "cell_type": "code",
      "source": [
        "# Step 2 - Select centroids\n",
        "def select_centroids(corpus, k, new_centroids):\n",
        "  if new_centroids != []:\n",
        "    return new_centroids\n",
        "  sc = []\n",
        "  selected_centroids = []\n",
        "  \n",
        "  for i in range(k):\n",
        "    r = random.randint(0,len(corpus)-1)\n",
        "    if r in sc:\n",
        "      for i in range(10):\n",
        "        r2 = random.randint(0, len(corpus)-1)\n",
        "        if r2 not in sc:\n",
        "          sc.append(r2)\n",
        "          selected_centroids.append([corpus['mass'][r2],\n",
        "          corpus['width'][r2], corpus['height'][r2], corpus['color_score'][r2]])\n",
        "          break\n",
        "        else:\n",
        "          sc.append(r)\n",
        "          selected_centroids.append([corpus['mass'][r],\n",
        "          corpus['width'][r], corpus['height'][r], corpus['color_score'][r]])\n",
        "        return selected_centroids"
      ],
      "metadata": {
        "id": "AGLAhpTkkDVh"
      },
      "execution_count": null,
      "outputs": []
    },
    {
      "cell_type": "code",
      "source": [
        "# Step 3 - Assign points to closest cluster centroid b calculating Euclidean distance\n",
        "def assign_points(corpus, selected_centroids):\n",
        "  cluster1, cluster2, cluster3 = [], [], []\n",
        "  for i in range(len(corpus)):\n",
        "    row = [corpus.loc['mass'][i], corpus.loc['width'][i], corpus.loc['height'][i], corpus.loc['color_score'][i]]\n",
        "    if row not in selected_centroids:\n",
        "      best_centroid = calc_distance(corpus, selected_centroids, row)\n",
        "    if best_centroid == 0:\n",
        "      cluster1.append(row)\n",
        "    elif best_centroid == 1:\n",
        "      cluster2.append(row)\n",
        "    elif best_centroid == 2:\n",
        "      cluster3.append(row)\n",
        "  return cluster1, cluster2, cluster3\n",
        "\n"
      ],
      "metadata": {
        "id": "ppMqdXK5kDS6"
      },
      "execution_count": null,
      "outputs": []
    },
    {
      "cell_type": "code",
      "source": [
        "# calculate euclidean distance between centroids and all points\n",
        "def calc_distance(corpus, selected_centroids, row):\n",
        "  clusters = []\n",
        "  d = float('inf')\n",
        "  for i in range(len(selected_centroids)):\n",
        "    dist = sqrt( pow(np.array(selected_centroids[i][0]-row[0]), 2) +\n",
        "    pow(np.array(selected_centroids[i][1]-row[1]), 2) +\n",
        "    pow(np.array(selected_centroids[i][2]-row[2]), 2) +\n",
        "    pow(np.array(selected_centroids[i][3]-row[3]), 2) )\n",
        "    if dist < d:\n",
        "      d = dist\n",
        "      b = i\n",
        "  return b\n"
      ],
      "metadata": {
        "id": "sEepwtiHED6T"
      },
      "execution_count": null,
      "outputs": []
    },
    {
      "cell_type": "code",
      "source": [
        "\n",
        "# Step 4 - Recompute centroids\n",
        "\n",
        "def recompute_centroids(selected_centroids, cluster1, cluster2, cluster3):\n",
        "  avg_mass, avg_width, avg_height, avg_colorscore = 0, 0, 0, 0\n",
        "  for i in cluster1:\n",
        "    avg_mass += i[0]\n",
        "    avg_width += i[1]\n",
        "    avg_height += i[2]\n",
        "    avg_colorscore += i[3]\n",
        "    avg_mass = avg_mass/len(cluster1)\n",
        "    avg_width = avg_width/len(cluster1)\n",
        "    avg_height = avg_width/len(cluster1)\n",
        "    avg_colorscore = avg_width/len(cluster1)\n",
        "    selected_centroids[0] = [avg_mass, avg_width, avg_height,\n",
        "    avg_colorscore]\n",
        "  \n",
        "  avg_mass, avg_width, avg_height, avg_colorscore = 0, 0, 0, 0\n",
        "  for i in cluster2:\n",
        "    avg_mass += i[0]\n",
        "    avg_width += i[1]\n",
        "    avg_height += i[2]\n",
        "    avg_colorscore += i[3]\n",
        "    avg_mass = avg_mass/len(cluster2)\n",
        "    avg_width = avg_width/len(cluster2)\n",
        "    avg_height = avg_width/len(cluster2)\n",
        "    avg_colorscore = avg_width/len(cluster2)\n",
        "    selected_centroids[1] = [avg_mass, avg_width, avg_height,\n",
        "    avg_colorscore]\n",
        "  avg_mass, avg_width, avg_height, avg_colorscore = 0, 0, 0, 0\n",
        "  for i in cluster3:\n",
        "    avg_mass += i[0]\n",
        "    avg_width += i[1]\n",
        "    avg_height += i[2]\n",
        "    avg_colorscore += i[3]\n",
        "    avg_mass = avg_mass/len(cluster3)\n",
        "    avg_width = avg_width/len(cluster3)\n",
        "    avg_height = avg_width/len(cluster3)\n",
        "    avg_colorscore = avg_width/len(cluster3)\n",
        "    selected_centroids[2] = [avg_mass, avg_width, avg_height,\n",
        "    avg_colorscore]\n",
        "  return selected_centroids\n",
        "\n",
        "\n"
      ],
      "metadata": {
        "id": "OXLd-Ea3D-I7"
      },
      "execution_count": null,
      "outputs": []
    },
    {
      "cell_type": "code",
      "source": [
        "def KMeans(corpus, k):\n",
        "  print('Please wait, the algorithm is running for 3 seconds.')\n",
        "  end_time = datetime.now() + timedelta(seconds=3)\n",
        "  new_centroids = []\n",
        "\n",
        "  while datetime.now() < end_time:\n",
        "    selected_centroids = select_centroids(corpus, k, new_centroids)\n",
        "    cluster1, cluster2, cluster3 = assign_points(corpus,\n",
        "    selected_centroids)\n",
        "    new_centroids = recompute_centroids(selected_centroids, cluster1,\n",
        "    cluster2, cluster3)\n",
        "  return cluster1, cluster2, cluster3\n",
        "# -------------------------------------------------------------------\n"
      ],
      "metadata": {
        "id": "C5tY5KN7D9ME"
      },
      "execution_count": null,
      "outputs": []
    },
    {
      "cell_type": "code",
      "source": [
        "if __name__ == '__main__':\n",
        "  k = 3\n",
        "  c1, c2, c3 = KMeans(data,k)\n",
        "  print('Cluster 1:',c1,sep='\\n')\n",
        "  print('---------------')\n",
        "  print('Cluster 2:',c2,sep='\\n')\n",
        "  print('---------------')\n",
        "  print('Cluster 3:',c3,sep='\\n')"
      ],
      "metadata": {
        "id": "djIUe6V6Gdwu"
      },
      "execution_count": null,
      "outputs": []
    },
    {
      "cell_type": "code",
      "source": [
        ""
      ],
      "metadata": {
        "id": "-G5r-tEBGvY2"
      },
      "execution_count": null,
      "outputs": []
    }
  ]
}