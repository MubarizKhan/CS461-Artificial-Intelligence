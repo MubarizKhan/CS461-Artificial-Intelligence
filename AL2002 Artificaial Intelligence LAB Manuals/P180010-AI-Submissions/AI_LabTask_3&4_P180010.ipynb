{
  "nbformat": 4,
  "nbformat_minor": 0,
  "metadata": {
    "colab": {
      "name": "AI-LabTask-3&4-P180010.ipynb",
      "provenance": []
    },
    "kernelspec": {
      "name": "python3",
      "display_name": "Python 3"
    },
    "language_info": {
      "name": "python"
    }
  },
  "cells": [
    {
      "cell_type": "code",
      "metadata": {
        "id": "ys73alA5ld4K",
        "colab": {
          "base_uri": "https://localhost:8080/"
        },
        "outputId": "73ec2dde-4ebc-4416-98b6-86a0405f5f8f"
      },
      "source": [
        "!ls\n",
        "from collections import deque"
      ],
      "execution_count": 16,
      "outputs": [
        {
          "output_type": "stream",
          "name": "stdout",
          "text": [
            "sample_data\n"
          ]
        }
      ]
    },
    {
      "cell_type": "code",
      "metadata": {
        "id": "9H6ajZ-Y6NWp"
      },
      "source": [
        "# Mubariz Ahmed Khan P180010 ------------------ AI Lab Task -------------------------------------------------\n",
        "# 1. Breadth-first Search\n",
        "# 2. Depth-first Search\n",
        "# 3. Depth-limited Search\n",
        "# 4. Iterative deepening depth-first search"
      ],
      "execution_count": null,
      "outputs": []
    },
    {
      "cell_type": "code",
      "metadata": {
        "id": "_0cT5EHF2eMX"
      },
      "source": [
        "class treeNode:\n",
        "  def __init__(self, val):\n",
        "    self.val = val\n",
        "    self.left = None\n",
        "    self.right = None"
      ],
      "execution_count": 53,
      "outputs": []
    },
    {
      "cell_type": "code",
      "metadata": {
        "id": "xD77KfT85lTb"
      },
      "source": [
        "class BST(treeNode):\n",
        "  def __init__(self,val, parent=None):\n",
        "    super().__init__(val)\n",
        "    self.parent = parent\n",
        "\n",
        "  def insert(self,val):\n",
        "    if val < self.val:\n",
        "      if self.left is None:\n",
        "        new_node = BST(val, parent = self)\n",
        "        self.left = new_node\n",
        "      else:\n",
        "        self.left.insert(val)\n",
        "    elif val > self.val:\n",
        "      if self.right is None:\n",
        "        new_node = BST(val, parent = self)\n",
        "        self.right = new_node\n",
        "      else:\n",
        "        self.right.insert(val)\n",
        "\n",
        "  def DLS(self, goal, limit):\n",
        "    stk = []\n",
        "    stk.append(self)\n",
        "    found = False\n",
        "\n",
        "    while stk:\n",
        "      current = stk.pop()\n",
        "      #print(current.val)\n",
        "      if current:\n",
        "        if current.val == goal:\n",
        "          found = True\n",
        "          break\n",
        "        else:\n",
        "          if current.right:\n",
        "            depth = get_depth(current.right)\n",
        "            if depth <= limit:\n",
        "              stk.append(current.right)\n",
        "          if current.left:\n",
        "            depth = get_depth(current.left)\n",
        "            if depth <= limit:\n",
        "              stk.append(current.left)\n",
        "    if found == True:\n",
        "      depth = get_depth(current)\n",
        "      print('Goal found at depth',depth)\n",
        "      return True\n",
        "    else:\n",
        "      return False\n",
        "    \n",
        "  def IDS(self, goal):\n",
        "    max_depth = 0\n",
        "    # to get max depth\n",
        "    while self:\n",
        "    # because CBT so all leaf nodes will be at the same depth\n",
        "      self = self.left\n",
        "      if self:\n",
        "        max_depth += 1\n",
        "    for depth in range(0, max_depth+1):\n",
        "      flg = b.DLS(goal, depth)\n",
        "      if flg == True:\n",
        "        return True\n",
        "    if flg == False:\n",
        "      return ('Goal not found')"
      ],
      "execution_count": 59,
      "outputs": []
    },
    {
      "cell_type": "code",
      "metadata": {
        "id": "4Zxu0PGtX_gw"
      },
      "source": [
        "def bfs_search(root, search_key):\n",
        "  count = 0\n",
        "  found = False\n",
        "  que = deque()\n",
        "  que.append(root)\n",
        "  while que:\n",
        "    count += 1\n",
        "    current = que.popleft()\n",
        "    if current.val == search_key:\n",
        "      found = True\n",
        "      print('Found')\n",
        "      print('Total nodes visited:',count)\n",
        "      return\n",
        "    else:\n",
        "      if current.left:\n",
        "        que.append(current.left)\n",
        "      if current.right:\n",
        "        que.append(current.right)\n",
        "  if found != True:\n",
        "    print('Keyword not found')\n",
        "  print('Total nodes visited:',count)\n",
        "  return\n"
      ],
      "execution_count": 60,
      "outputs": []
    },
    {
      "cell_type": "code",
      "metadata": {
        "id": "RuIfIl8TX_jp"
      },
      "source": [
        "def dfs_search(root, search_key):\n",
        "  stk = []\n",
        "  stk.append(root)\n",
        "  count = 0\n",
        "  found = False\n",
        "\n",
        "  while stk:\n",
        "    count += 1\n",
        "    current = stk.pop(0)\n",
        "    if search_key == current.val:\n",
        "      found = True\n",
        "      print('Found')\n",
        "      print('Total nodes visited:',count)\n",
        "      return\n",
        "    else:\n",
        "      if current.right:\n",
        "        stk.append(current.right)\n",
        "      if current.left:\n",
        "        stk.append(current.left)\n",
        "  if found != True:\n",
        "    print('Keyword not found')\n",
        "    print('Total nodes visited:',count)\n",
        "  return"
      ],
      "execution_count": 61,
      "outputs": []
    },
    {
      "cell_type": "code",
      "metadata": {
        "id": "pQk14gE5X_mT"
      },
      "source": [
        ""
      ],
      "execution_count": 61,
      "outputs": []
    },
    {
      "cell_type": "code",
      "metadata": {
        "id": "Xqr4dxInX_os"
      },
      "source": [
        "def DLS(root, goal, limit):\n",
        "  stk = []\n",
        "  stk.append(root)\n",
        "  found = False\n",
        "\n",
        "  while stk:\n",
        "    current = stk.pop()\n",
        "    #print(current.val)\n",
        "    if current:\n",
        "      if current.val == goal:\n",
        "        found = True\n",
        "        break\n",
        "      else:\n",
        "        if current.right:\n",
        "          depth = get_depth(current.right)\n",
        "          if depth <= limit:\n",
        "            stk.append(current.right)\n",
        "        if current.left:\n",
        "          depth = get_depth(current.left)\n",
        "          if depth <= limit:\n",
        "            stk.append(current.left)\n",
        "  if found == True:\n",
        "    depth = get_depth(current)\n",
        "    print('Goal found at depth',depth)\n",
        "    return True\n",
        "  else:\n",
        "    return False\n",
        "    \n",
        "\n",
        "def get_depth(root):\n",
        "  level = 0\n",
        "  while root:\n",
        "    root = root.parent\n",
        "    if root:\n",
        "      level += 1\n",
        "  return level"
      ],
      "execution_count": 62,
      "outputs": []
    },
    {
      "cell_type": "code",
      "metadata": {
        "id": "vaKTnSzv7VNO"
      },
      "source": [
        ""
      ],
      "execution_count": null,
      "outputs": []
    },
    {
      "cell_type": "code",
      "metadata": {
        "id": "vQqYRq487Vci"
      },
      "source": [
        "tree_1 = BST(50)\n",
        "insertion_list = [30,15,35,77,32,3,2,44,443,53,54,5,5,74,29,99,100]\n",
        "for i in (insertion_list):\n",
        "  tree_1.insert(i)"
      ],
      "execution_count": 67,
      "outputs": []
    },
    {
      "cell_type": "code",
      "metadata": {
        "colab": {
          "base_uri": "https://localhost:8080/"
        },
        "id": "8X-_yMpn7Vcm",
        "outputId": "029f0d5b-a2c2-4ef7-e5bc-b03aa9d49600"
      },
      "source": [
        "bfs_search(tree_1,99)\n",
        "dfs_search(tree_1,99)"
      ],
      "execution_count": 68,
      "outputs": [
        {
          "output_type": "stream",
          "name": "stdout",
          "text": [
            "Found\n",
            "Total nodes visited: 13\n",
            "Found\n",
            "Total nodes visited: 8\n"
          ]
        }
      ]
    },
    {
      "cell_type": "code",
      "metadata": {
        "id": "yxUAqhiN7dLB"
      },
      "source": [
        "insertion_list = ['M','F','V','T','U','X','Z''B','G','N','P','O','A','Y','S']\n",
        "\n",
        "tree_1 = BST('R')\n",
        "# insertion_list = [30,15,35,77,32,3,2,44,443,53,54,5,5,74,29,99,100]\n",
        "for i in (insertion_list):\n",
        "  tree_1.insert(i)"
      ],
      "execution_count": 72,
      "outputs": []
    },
    {
      "cell_type": "code",
      "metadata": {
        "colab": {
          "base_uri": "https://localhost:8080/"
        },
        "id": "palzfAvT07rX",
        "outputId": "3e1e8098-26c0-418c-b11b-d2996f6b2e94"
      },
      "source": [
        "\n",
        "# print_tree(b)|\n",
        "print('Checking DLS for Z at depth 2:')\n",
        "g = b.DLS('Z',2)\n",
        "print(g)\n",
        "print('-------')\n",
        "print('Checking DLS for Z at depth 3:')\n",
        "g = b.DLS('Z',3)\n",
        "print(g)\n",
        "print('-------')\n",
        "print('Checking IDS for O:')\n",
        "g = b.IDS('O')\n",
        "print(g)\n",
        "print('-------')\n",
        "print('Checking IDS for X:')\n",
        "g = b.IDS('X')\n",
        "print(g)\n",
        "print('-------')\n",
        "print('Checking IDS for W:')\n",
        "g = b.IDS('W')\n",
        "print(g)"
      ],
      "execution_count": 70,
      "outputs": [
        {
          "output_type": "stream",
          "name": "stdout",
          "text": [
            "Checking DLS for Z at depth 2:\n",
            "False\n",
            "-------\n",
            "Checking DLS for Z at depth 3:\n",
            "False\n",
            "-------\n",
            "Checking IDS for O:\n",
            "Goal not found\n",
            "-------\n",
            "Checking IDS for X:\n",
            "Goal not found\n",
            "-------\n",
            "Checking IDS for W:\n",
            "Goal not found\n"
          ]
        }
      ]
    },
    {
      "cell_type": "code",
      "metadata": {
        "id": "XKEzMftg9S6Q"
      },
      "source": [
        ""
      ],
      "execution_count": 65,
      "outputs": []
    },
    {
      "cell_type": "code",
      "metadata": {
        "id": "CAhmLj_anJq9"
      },
      "source": [
        ""
      ],
      "execution_count": 72,
      "outputs": []
    },
    {
      "cell_type": "code",
      "metadata": {
        "id": "G3094-bfnv8Q"
      },
      "source": [
        ""
      ],
      "execution_count": null,
      "outputs": []
    }
  ]
}