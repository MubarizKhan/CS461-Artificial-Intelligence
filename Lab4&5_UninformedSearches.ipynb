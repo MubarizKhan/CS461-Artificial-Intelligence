{
  "nbformat": 4,
  "nbformat_minor": 0,
  "metadata": {
    "colab": {
      "name": "Lab4&5:UninformedSearches.ipynb",
      "provenance": [],
      "authorship_tag": "ABX9TyPCEF4Hhskw1pimAXTJryvd",
      "include_colab_link": true
    },
    "kernelspec": {
      "name": "python3",
      "display_name": "Python 3"
    },
    "language_info": {
      "name": "python"
    }
  },
  "cells": [
    {
      "cell_type": "markdown",
      "metadata": {
        "id": "view-in-github",
        "colab_type": "text"
      },
      "source": [
        "<a href=\"https://colab.research.google.com/github/MubarizKhan/CS461-Artificial-Intelligence/blob/main/Lab4%265_UninformedSearches.ipynb\" target=\"_parent\"><img src=\"https://colab.research.google.com/assets/colab-badge.svg\" alt=\"Open In Colab\"/></a>"
      ]
    },
    {
      "cell_type": "code",
      "metadata": {
        "id": "F-XgmHaqXK2P"
      },
      "source": [
        "class graph:\n",
        "  def __init__(self):\n",
        "    self.g = {}\n",
        "  def add_node(self, node):\n",
        "    if node in self.g:\n",
        "      raise ValueError('Node already exists')\n",
        "    self.g[node] = []\n",
        "  def add_edge(self, src, dest):\n",
        "    if src not in self.g:\n",
        "      raise ValueError(\"Source doesn't exist in graph\")\n",
        "    if dest not in self.g:\n",
        "      raise ValueError(\"Destination doesn't exist in graph\")\n",
        "    if dest in self.g[src]:\n",
        "      return\n",
        "    self.g[src].append(dest)\n",
        "    print(dest, ' added')\n",
        "\n",
        "  def dfs(self,src,dest):\n",
        "    # to_visit = [self]:\n",
        "    visited = []\n",
        "    lifo = [src]\n",
        "    print(lifo)\n",
        "\n",
        "    while lifo:\n",
        "\n",
        "      current_node = lifo.pop()\n",
        "      if current_node not in visited:\n",
        "        print(current_node,'curremt_node')\n",
        "        visited.insert(0, self.g[current_node])\n",
        "        print(visited, 'in visited')\n",
        "      if dest in self.g[current_node]: #self.g[current_node])\n",
        "        print('GOAL FOUND')\n",
        "        return True\n",
        "        # for neighbor_list in visted:\n",
        "        for neighbor in self.g[current_node]:\n",
        "          if neighbor not in visited:\n",
        "            lifo.append(neighbor)\n",
        "    return False\n",
        "\n",
        "  def bfs(self,src, dest):\n",
        "      neighbor_list = []\n",
        "      queue = [src]\n",
        "\n",
        "      while queue:\n",
        "        current_node = queue.pop()\n",
        "        if current_node not in queue:\n",
        "          neighbor_list.append(current_node)\n",
        "\n",
        "          if current_node is dest:\n",
        "            print(neighbor_list)\n",
        "            print('GOAL FOUND')\n",
        "            return True\n",
        "          for neighbor in self.g[current_node]:\n",
        "            if neighbor not in neighbor_list:\n",
        "              queue.append(neighbor)\n",
        "\n",
        "      return False"
      ],
      "execution_count": null,
      "outputs": []
    },
    {
      "cell_type": "code",
      "metadata": {
        "id": "leqIvpxI1UmX",
        "colab": {
          "base_uri": "https://localhost:8080/"
        },
        "outputId": "ec2dee58-2ec5-438e-b6fc-46ce1cc87bbf"
      },
      "source": [
        "\n",
        "obj = graph()\n",
        "list = ['a', 'b', 'c','d','e','f']\n",
        "for n in list:\n",
        "    obj.add_node(n)\n",
        "\n",
        "edges = [\n",
        "    ('a', 'b'),\n",
        "    ('a', 'c'),\n",
        "    ('b', 'c'),\n",
        "    ('b', 'd'),\n",
        "    ('c', 'd'),\n",
        "    ('d', 'c'),\n",
        "    ('d', 'e'),\n",
        "    ('e', 'f'),\n",
        "    ('f', 'c'),\n",
        "    ('b', 'a'),\n",
        "    ('b', 'f'),\n",
        "    ('a', 'f'),\n",
        "    ('f', 'c')\n",
        "]\n",
        "\n",
        "for n in edges:\n",
        "    obj.add_edge(n[0], n[1])\n",
        "obj.bfs('b','f')"
      ],
      "execution_count": null,
      "outputs": [
        {
          "output_type": "stream",
          "text": [
            "b  added\n",
            "c  added\n",
            "c  added\n",
            "d  added\n",
            "d  added\n",
            "c  added\n",
            "e  added\n",
            "f  added\n",
            "c  added\n",
            "a  added\n",
            "f  added\n",
            "f  added\n",
            "['b', 'f']\n",
            "GOAL FOUND\n"
          ],
          "name": "stdout"
        },
        {
          "output_type": "execute_result",
          "data": {
            "text/plain": [
              "True"
            ]
          },
          "metadata": {
            "tags": []
          },
          "execution_count": 4
        }
      ]
    },
    {
      "cell_type": "code",
      "metadata": {
        "id": "40pVeCQo8w6O"
      },
      "source": [
        "import networkx as nx\n",
        "import matplotlib.pyplot as plt\n",
        "from queue import PriorityQueue\n",
        "import copy\n",
        "\n",
        "\n",
        "# for notebook http://localhost:8888/notebooks/19-graphs-weighted.ipynb#\n",
        "%matplotlib inline \n",
        "import warnings\n",
        "warnings.filterwarnings(\"ignore\")"
      ],
      "execution_count": null,
      "outputs": []
    },
    {
      "cell_type": "code",
      "metadata": {
        "colab": {
          "base_uri": "https://localhost:8080/"
        },
        "id": "UaDEWdM4-865",
        "outputId": "40623508-427b-4db1-94db-f5a99b5532fe"
      },
      "source": [
        "!pip install networkx  # install once "
      ],
      "execution_count": null,
      "outputs": [
        {
          "output_type": "stream",
          "text": [
            "Requirement already satisfied: networkx in /usr/local/lib/python3.7/dist-packages (2.5.1)\n",
            "Requirement already satisfied: decorator<5,>=4.3 in /usr/local/lib/python3.7/dist-packages (from networkx) (4.4.2)\n"
          ],
          "name": "stdout"
        }
      ]
    },
    {
      "cell_type": "code",
      "metadata": {
        "id": "l1oig5dD8zRg"
      },
      "source": [
        "def draw_graph_with_nx(G): \n",
        "    pos = nx.spring_layout(G, iterations=200)\n",
        "    options = {'node_color': 'white', 'alpha': 1, 'node_size': 2000, 'width': 0.002, 'font_color': 'darkred', \n",
        "               'font_size': 25, 'arrows': True, 'edge_color': 'brown',\n",
        "               'arrowstyle': 'Fancy, head_length=1, head_width=1, tail_width=.4'\n",
        "              }\n",
        "    labels = nx.get_node_attributes(G, 'label')\n",
        "    weight_labels = nx.get_edge_attributes(G, 'weight')\n",
        "    nx.draw(G, pos, labels=labels,  **options)\n",
        "    nx.draw_networkx_edge_labels(G, pos, edge_labels=weight_labels, font_size=15)\n",
        "    plt.show()"
      ],
      "execution_count": null,
      "outputs": []
    },
    {
      "cell_type": "code",
      "metadata": {
        "colab": {
          "base_uri": "https://localhost:8080/"
        },
        "id": "d-N2D9mv1W59",
        "outputId": "a3afcda8-62a8-4fde-c442-e26778f2433f"
      },
      "source": [
        "\t\n",
        "# \tLAB TASK # 05 !!!\n",
        "\n",
        "# 1. Use BFS code to implement Uniform Cost Search Algorithm.\n",
        "# \t-add extra check to explore only that node which has minimum cost\n",
        "# \t-add extra list named as \"visite_node\" to avoid the same node visiting repeatedly.\n",
        "\n",
        "# 2. Use DFS code to implement Depth-Limited First Search and Iterative Deepening First Search\n",
        "# \t-write a function to find depth of given node\n",
        "# \t-use this function for depth limited \n",
        "\n",
        "class Graph:\n",
        "    def __init__(self):\n",
        "        self.edges = {\n",
        "        'S': ['A', 'G'],\n",
        "        'A': ['B', 'C'],\n",
        "        'B': ['D'],\n",
        "        'C': ['D', 'G'],\n",
        "        'D': ['G'],\n",
        "        }\n",
        "        self.weights = {'S':[1,12],\n",
        "                        'A': [3,1], \n",
        "                        'B': [3], \n",
        "                        'C': [1,2],\n",
        "                        'D': [3]\n",
        "                       }\n",
        "\n",
        "    def neighbors(self, node):\n",
        "        return self.edges[node]\n",
        "\n",
        "    def get_cost(self, from_node, to_node):\n",
        "        \n",
        "        #check if path exists or not\n",
        "        if to_node in self.edges[from_node]:\n",
        "            #get the index of to_node\n",
        "            index = self.edges[from_node].index(to_node)\n",
        "        else:\n",
        "            print(\"To_Node doesn't exists.\")\n",
        "            return\n",
        "        cost = self.weights[from_node][index]\n",
        "        return cost\n",
        "\n",
        "    def DLFS(self, source, destination, depth = 0):\n",
        "      print(source, destination, 'Source & Destination')\n",
        "    \n",
        "      if source in self.edges:\n",
        "        if destination in self.edges[source]:\n",
        "          print('!')\n",
        "          depth += 1\n",
        "          return depth\n",
        "          # print('???')\n",
        " \n",
        "      to_visit = self.edges[source]\n",
        "      print(to_visit, 'before loop')\n",
        "      for i in to_visit:\n",
        "        list_of_dictlist = self.edges[i] #in each there will be a new list, [A,G] -> edges[A], edges[G]\n",
        "        \n",
        "      # if destination  not in to_visit:                  #[B,A,C], [B,L,J]\n",
        "      #   for i in to_visit:\n",
        "      #     print(to_visit,i,'i', '<--',depth)\n",
        "        \n",
        "      #     val_list = self.edges[i]\n",
        "      #     if destination in val_list:\n",
        "      #       return depth +1\n",
        "\n",
        "      #     print(val_list, 'val_list')\n",
        "\n",
        "      #     self.DLFS(i, destination, depth+1)\n",
        "      # depth += 1\n",
        "\n",
        "      # if destination in self.edges[source]:\n",
        "      #   depth += 1\n",
        "      return depth\n",
        "\n",
        "def ucs(graph, begin, goal):\n",
        "    node_list = set()\n",
        "    frontier = PriorityQueue()\n",
        "    frontier.put((0, begin))\n",
        "    while frontier:\n",
        "        cost, node = frontier.get()\n",
        "        print(\"Node to be expanded is: \",node+\", Cost = \",cost)\n",
        "        if node not in node_list:\n",
        "            node_list.add(node)\n",
        "            print(\"Nodes in node list are:\", node_list)\n",
        "            min_path = []\n",
        "            if node == goal:\n",
        "                min_path.append(cost)\n",
        "                print(\"Queue : \",frontier)\n",
        "                print(\"Min Path = \",cost)\n",
        "                if len(min_path)>3:\n",
        "                    return min_path\n",
        "                return \n",
        "            for cur_node in graph.neighbors(node):\n",
        "                if cur_node not in node_list:\n",
        "                    total_cost = cost + graph.get_cost(node, cur_node)\n",
        "                    frontier.put((total_cost, cur_node))\n",
        "    return False\n",
        "\n",
        "g = Graph()\n",
        "ucs(g, 'S', 'G')\n"
      ],
      "execution_count": null,
      "outputs": [
        {
          "output_type": "stream",
          "text": [
            "Node to be expanded is:  S, Cost =  0\n",
            "Nodes in node list are: {'S'}\n",
            "Node to be expanded is:  A, Cost =  1\n",
            "Nodes in node list are: {'S', 'A'}\n",
            "Node to be expanded is:  C, Cost =  2\n",
            "Nodes in node list are: {'S', 'C', 'A'}\n",
            "Node to be expanded is:  D, Cost =  3\n",
            "Nodes in node list are: {'D', 'S', 'C', 'A'}\n",
            "Node to be expanded is:  B, Cost =  4\n",
            "Nodes in node list are: {'B', 'D', 'S', 'C', 'A'}\n",
            "Node to be expanded is:  G, Cost =  4\n",
            "Nodes in node list are: {'B', 'D', 'S', 'G', 'C', 'A'}\n",
            "Queue :  <queue.PriorityQueue object at 0x7ff6ee0c9b90>\n",
            "Min Path =  4\n"
          ],
          "name": "stdout"
        }
      ]
    },
    {
      "cell_type": "code",
      "metadata": {
        "id": "zdM6s6vN8zf2"
      },
      "source": [
        "import networkx as nx\n",
        "import matplotlib.pyplot as plt\n",
        "from queue import PriorityQueue\n",
        "import copy\n",
        "\n",
        "\n",
        "# for notebook http://localhost:8888/notebooks/19-graphs-weighted.ipynb#\n",
        "%matplotlib inline \n",
        "import warnings\n",
        "warnings.filterwarnings(\"ignore\")"
      ],
      "execution_count": null,
      "outputs": []
    },
    {
      "cell_type": "code",
      "metadata": {
        "id": "43FCIFEA8ynJ"
      },
      "source": [
        "import networkx as nx\n",
        "import matplotlib.pyplot as plt\n",
        "from queue import PriorityQueue\n",
        "import copy\n",
        "\n",
        "\n",
        "# for notebook http://localhost:8888/notebooks/19-graphs-weighted.ipynb#\n",
        "%matplotlib inline \n",
        "import warnings\n",
        "warnings.filterwarnings(\"ignore\")"
      ],
      "execution_count": null,
      "outputs": []
    },
    {
      "cell_type": "code",
      "metadata": {
        "id": "4xGyCXHM8cQp"
      },
      "source": [
        "       \n",
        "\n",
        "    \n",
        "  #   def ucs(self,start, goal):\n",
        "  #     visited = set()\n",
        "  #     queue = PriorityQueue()\n",
        "  #     queue.put((0, start))\n",
        "  #     while queue:\n",
        "  #       cost, node = queue.get()\n",
        "  #       print(\"Node to be expanded is: \",node+\", Cost = \",cost)\n",
        "  #       if node not in visited:\n",
        "  #           visited.add(node)\n",
        "  #           print(\"Visited Nodes are : \", visited)\n",
        "\n",
        "  #       if node == goal:\n",
        "  #           print(\"Min Path = \",cost)\n",
        "  #           return\n",
        "  #       var = self.neighbors(node)\n",
        "  # #Visiting every node connected to the current node and finding total cost (root-to-uptill now)\n",
        "  #       for i in var:\n",
        "  #           if i not in visited:\n",
        "  #               total_cost = cost + self.get_cost(node, i)\n",
        "  #               queue.put((total_cost, i))\n",
        "  #   #print(\"Node with total cost to be added is : \", i, total_cost)\n",
        "  #     return False\n",
        "\n"
      ],
      "execution_count": null,
      "outputs": []
    },
    {
      "cell_type": "code",
      "metadata": {
        "id": "76f5kXJB_KkT"
      },
      "source": [
        ""
      ],
      "execution_count": null,
      "outputs": []
    },
    {
      "cell_type": "code",
      "metadata": {
        "id": "yPm2VpK-_K7O"
      },
      "source": [
        ""
      ],
      "execution_count": null,
      "outputs": []
    },
    {
      "cell_type": "code",
      "metadata": {
        "id": "Lv67Lj6__LOT"
      },
      "source": [
        ""
      ],
      "execution_count": null,
      "outputs": []
    }
  ]
}