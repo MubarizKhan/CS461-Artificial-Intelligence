{
  "nbformat": 4,
  "nbformat_minor": 0,
  "metadata": {
    "colab": {
      "name": "p180010.ipynb",
      "provenance": [],
      "authorship_tag": "ABX9TyNr4oBPEZCEYHZVari4GsJp",
      "include_colab_link": true
    },
    "kernelspec": {
      "name": "python3",
      "display_name": "Python 3"
    },
    "language_info": {
      "name": "python"
    }
  },
  "cells": [
    {
      "cell_type": "markdown",
      "metadata": {
        "id": "view-in-github",
        "colab_type": "text"
      },
      "source": [
        "<a href=\"https://colab.research.google.com/github/MubarizKhan/CS461-Artificial-Intelligence/blob/main/p180010.ipynb\" target=\"_parent\"><img src=\"https://colab.research.google.com/assets/colab-badge.svg\" alt=\"Open In Colab\"/></a>"
      ]
    },
    {
      "cell_type": "code",
      "metadata": {
        "id": "XosuHYI1RWcd"
      },
      "source": [
        "# from google.colab import files\n",
        "# uploaded = files.upload()\n",
        "\n",
        "# uploaded\n",
        "import pandas as pd\n",
        "import numpy as np\n",
        "from math import sqrt\n",
        "\n",
        "# Mubariz Khan P180010 LABTASK \n",
        "\n"
      ],
      "execution_count": null,
      "outputs": []
    },
    {
      "cell_type": "code",
      "metadata": {
        "id": "VF4lYDC-kwA8"
      },
      "source": [
        "import pandas as pd\n",
        "import numpy as np\n",
        "from math import sqrt\n",
        "\n",
        "df = pd.read_excel('/content/Online Retail.xlsx')\n",
        "df_final = df.drop([\"InvoiceNo\",\"StockCode\",\"Description\",\"InvoiceDate\",\"Country\",\"CustomerID\"], axis=1)\n",
        "\n",
        "\n",
        "def distance(quantity, unit_price):\n",
        "  a = ((quantity[0]-unit_price[0])**2)\n",
        "  b = ((quantity[1]-unit_price[1])**2)\n",
        "  \n",
        "  return sqrt(a + b)\n",
        "\n",
        " def main():\n",
        "  centroid_list = []\n",
        "  distance(df_final[\"Quantity\"],df_final[\"UnitPrice\"]) \n",
        "  for i in range(10):\n",
        "\n",
        "    c1 = np.random.randint(1,len(df_final))\n",
        "\n",
        "    centroid_list.append(c1)\n",
        " \n",
        "  \n",
        "  dist = distance(df_final[\"Quantity\"],df_final[\"UnitPrice\"])\n",
        "  for centroid in range(len(centroid_list) -1):\n",
        "    if(centroid_list[centroid] - dist < centroid_list[centroid+1]- dist):\n",
        "        print(\"inside the if statement\")\n",
        "        print(\"This point belongs to centroid, \", centroid + 1) "
      ],
      "execution_count": null,
      "outputs": []
    },
    {
      "cell_type": "code",
      "metadata": {
        "id": "rkhe6A-9SFxg"
      },
      "source": [
        "\n",
        "\n"
      ],
      "execution_count": null,
      "outputs": []
    },
    {
      "cell_type": "code",
      "metadata": {
        "id": "4NrQUKL5r338"
      },
      "source": [
        "def main():\n",
        "  centroid_list = []\n",
        "  distance(df_final[\"Quantity\"],df_final[\"UnitPrice\"]) \n",
        "  for i in range(10):\n",
        "\n",
        "    c1 = np.random.randint(1,len(df_final))\n",
        "\n",
        "    centroid_list.append(c1)\n",
        " \n",
        "  \n",
        "  dist = distance(df_final[\"Quantity\"],df_final[\"UnitPrice\"])\n",
        "  for centroid in range(len(centroid_list) -1):\n",
        "    if(centroid_list[centroid] - dist < centroid_list[centroid+1]- dist):\n",
        "        print(\"inside the if statement\")\n",
        "        print(\"This point belongs to centroid, \", centroid + 1)\n"
      ],
      "execution_count": null,
      "outputs": []
    },
    {
      "cell_type": "code",
      "metadata": {
        "colab": {
          "base_uri": "https://localhost:8080/"
        },
        "id": "n8NyXSknSa-a",
        "outputId": "17586162-c333-42a9-f419-f3e06b3c2acc"
      },
      "source": [
        "\n",
        "main()\n"
      ],
      "execution_count": null,
      "outputs": [
        {
          "output_type": "stream",
          "text": [
            "inside the if statement\n",
            "This point belongs to centroid,  1\n",
            "inside the if statement\n",
            "This point belongs to centroid,  5\n",
            "inside the if statement\n",
            "This point belongs to centroid,  6\n",
            "inside the if statement\n",
            "This point belongs to centroid,  7\n"
          ],
          "name": "stdout"
        }
      ]
    },
    {
      "cell_type": "code",
      "metadata": {
        "id": "e6lgop-Lj08r"
      },
      "source": [
        ""
      ],
      "execution_count": null,
      "outputs": []
    }
  ]
}